{
 "cells": [
  {
   "cell_type": "markdown",
   "id": "73d0e3fe",
   "metadata": {},
   "source": [
    "1. What is the result of the code, and explain?\n",
    "\n",
    "&gt;&gt;&gt; X = &#39;iNeuron&#39;\n",
    "\n",
    "&gt;&gt;&gt; def func():\n",
    "print(X)\n",
    "\n",
    "&gt;&gt;&gt; func()"
   ]
  },
  {
   "cell_type": "code",
   "execution_count": 56,
   "id": "5c2f5a34",
   "metadata": {},
   "outputs": [
    {
     "name": "stdout",
     "output_type": "stream",
     "text": [
      "iNeuron\n"
     ]
    }
   ],
   "source": [
    "X = 'iNeuron'\n",
    "def func():\n",
    "    print(X)\n",
    "func()\n",
    "\n",
    "#Ans. The global variables are accessible in side the functions in python. \n",
    "#But we can not access function variable out side function. \n",
    "#Since x is global variable we are able to print it in side the function solution : 'iNeuron'"
   ]
  },
  {
   "cell_type": "markdown",
   "id": "bb607e99",
   "metadata": {},
   "source": [
    "2. What is the result of the code, and explain?\n",
    "\n",
    "&gt;&gt;&gt; X = &#39;iNeuron&#39;\n",
    "\n",
    "&gt;&gt;&gt; def func():\n",
    "\n",
    "X = &#39;NI!&#39;\n",
    "\n",
    "&gt;&gt;&gt; func()\n",
    "\n",
    "&gt;&gt;&gt; print(X)"
   ]
  },
  {
   "cell_type": "code",
   "execution_count": 57,
   "id": "08b760ea",
   "metadata": {},
   "outputs": [
    {
     "name": "stdout",
     "output_type": "stream",
     "text": [
      "iNeuron\n"
     ]
    }
   ],
   "source": [
    "X = 'iNeuron'\n",
    "def func():\n",
    "    X = 'NI!'\n",
    "\n",
    "func()\n",
    "print(X)\n",
    "\n",
    "#Ans. The global variables are access in side the functions in python. But we can not access function variable out side function.\n",
    "# Since x is golbal variable we are able to print it out side of the function solution = 'iNeuron'"
   ]
  },
  {
   "cell_type": "markdown",
   "id": "ad569bae",
   "metadata": {},
   "source": [
    "3. What does this code print, and why?\n",
    "\n",
    "&gt;&gt;&gt; X = &#39;iNeuron&#39;\n",
    "\n",
    "&gt;&gt;&gt; def func():\n",
    "\n",
    "X = &#39;NI&#39;\n",
    "\n",
    "print(X)\n",
    "\n",
    "&gt;&gt;&gt; func()\n",
    "\n",
    "&gt;&gt;&gt; print(X)"
   ]
  },
  {
   "cell_type": "code",
   "execution_count": 58,
   "id": "f69f05ae",
   "metadata": {},
   "outputs": [
    {
     "name": "stdout",
     "output_type": "stream",
     "text": [
      "NI!\n",
      "iNeuron\n"
     ]
    }
   ],
   "source": [
    "X = 'iNeuron'\n",
    "def func():\n",
    "    X = 'NI!'\n",
    "    print(X)\n",
    "\n",
    "func()\n",
    "print(X)\n",
    "\n",
    "#Ans. The global variables are access in side the functions in python. But we can not access function variable out side function.\n",
    "# X is updated with 'NI' which is local to function and its immutable. its name space is with in the function solution = 'NI!', 'iNeuron'"
   ]
  },
  {
   "cell_type": "markdown",
   "id": "0a6aee2f",
   "metadata": {},
   "source": [
    "4. What output does this code produce? Why?\n",
    "\n",
    "&gt;&gt;&gt; X = &#39;iNeuron&#39;\n",
    "\n",
    "&gt;&gt;&gt; def func():\n",
    "\n",
    "global X\n",
    "\n",
    "X = &#39;NI&#39;\n",
    "\n",
    "&gt;&gt;&gt; func()\n",
    "\n",
    "&gt;&gt;&gt; print(X)"
   ]
  },
  {
   "cell_type": "code",
   "execution_count": 59,
   "id": "99da7824",
   "metadata": {},
   "outputs": [
    {
     "name": "stdout",
     "output_type": "stream",
     "text": [
      "NI!\n",
      "NI!\n"
     ]
    }
   ],
   "source": [
    "X = 'iNeuron'\n",
    "def func():\n",
    "    global X\n",
    "    X = 'NI!'\n",
    "    print(X)\n",
    "\n",
    "func()\n",
    "print(X)\n",
    "#Ans. since the X in side function is made Global, it will be accesible out side of the function too. \n",
    "#now X will have new value.\n",
    "\n",
    " #solution : 'NI!', 'NI!'"
   ]
  },
  {
   "cell_type": "markdown",
   "id": "b1d39042",
   "metadata": {},
   "source": [
    "5. What about this code—what’s the output, and why?\n",
    "\n",
    "&gt;&gt;&gt; X = &#39;iNeuron&#39;\n",
    "\n",
    "&gt;&gt;&gt; def func():\n",
    "\n",
    "X = &#39;NI&#39;\n",
    "\n",
    "def nested():\n",
    "\n",
    "print(X)\n",
    "\n",
    "nested()\n",
    "\n",
    "&gt;&gt;&gt; func()\n",
    "\n",
    "&gt;&gt;&gt; X"
   ]
  },
  {
   "cell_type": "code",
   "execution_count": 60,
   "id": "cd6aa4c0",
   "metadata": {},
   "outputs": [
    {
     "name": "stdout",
     "output_type": "stream",
     "text": [
      "iNeuron\n"
     ]
    },
    {
     "data": {
      "text/plain": [
       "'iNeuron'"
      ]
     },
     "execution_count": 60,
     "metadata": {},
     "output_type": "execute_result"
    }
   ],
   "source": [
    "X = 'iNeuron'\n",
    "def func():\n",
    "    X = 'NI'\n",
    "def nested():\n",
    "    print(X)\n",
    "    \n",
    "nested()\n",
    "func()\n",
    "X\n",
    "\n",
    "#Ans. the nested() function will print 'iNeuron', Then func() does not display anything,\n",
    "# and x ='NI' is not accessible out \n",
    "#side the function.\n",
    "#Solution : 'iNeuron'"
   ]
  },
  {
   "cell_type": "markdown",
   "id": "725e9477",
   "metadata": {},
   "source": [
    "6. How about this code: what is its output in Python 3, and explain?\n",
    "\n",
    "&gt;&gt;&gt; def func():\n",
    "\n",
    "X = &#39;NI&#39;\n",
    "\n",
    "def nested():\n",
    "\n",
    "nonlocal X\n",
    "\n",
    "X = &#39;Spam&#39;\n",
    "\n",
    "nested()\n",
    "\n",
    "print(X)\n",
    "\n",
    "&gt;&gt;&gt; func()"
   ]
  },
  {
   "cell_type": "code",
   "execution_count": 61,
   "id": "08b18111",
   "metadata": {},
   "outputs": [
    {
     "name": "stdout",
     "output_type": "stream",
     "text": [
      "spam\n"
     ]
    }
   ],
   "source": [
    "\n",
    "def func():\n",
    "    X = 'NI'\n",
    "    def nested():\n",
    "        nonlocal X\n",
    "        X = 'spam'\n",
    "    nested()\n",
    "    print(X)\n",
    "\n",
    "func()\n",
    "\n",
    "#Nonlocal variables are used in nested functions whose local scope is not defined. \n",
    "#This means that the variable can be neither in the local nor the global scope. it print the updated value from nested \n",
    "#function\n",
    "\n",
    "#Sol : 'spam'"
   ]
  },
  {
   "cell_type": "code",
   "execution_count": null,
   "id": "8796d23a",
   "metadata": {},
   "outputs": [],
   "source": []
  }
 ],
 "metadata": {
  "kernelspec": {
   "display_name": "Python 3 (ipykernel)",
   "language": "python",
   "name": "python3"
  },
  "language_info": {
   "codemirror_mode": {
    "name": "ipython",
    "version": 3
   },
   "file_extension": ".py",
   "mimetype": "text/x-python",
   "name": "python",
   "nbconvert_exporter": "python",
   "pygments_lexer": "ipython3",
   "version": "3.9.12"
  }
 },
 "nbformat": 4,
 "nbformat_minor": 5
}
